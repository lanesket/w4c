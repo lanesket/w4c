{
 "cells": [
  {
   "cell_type": "code",
   "execution_count": 39,
   "metadata": {},
   "outputs": [
    {
     "name": "stdout",
     "output_type": "stream",
     "text": [
      "The autoreload extension is already loaded. To reload it, use:\n",
      "  %reload_ext autoreload\n"
     ]
    }
   ],
   "source": [
    "%load_ext autoreload\n",
    "%autoreload 2\n",
    "\n",
    "from dutils.w4c_dataloader import RainData\n",
    "from dutils.data_utils import load_config\n",
    "from meteopress.models.unet_attention.model import UNet_Attention\n",
    "from torch.utils.data import DataLoader\n",
    "import pytorch_lightning as pl\n",
    "import torch"
   ]
  },
  {
   "cell_type": "code",
   "execution_count": 18,
   "metadata": {},
   "outputs": [],
   "source": [
    "params = load_config(\"models/configurations/config_smaat.yaml\")"
   ]
  },
  {
   "cell_type": "code",
   "execution_count": 20,
   "metadata": {},
   "outputs": [],
   "source": [
    "data = RainData(\"training\", **params[\"dataset\"])"
   ]
  },
  {
   "cell_type": "code",
   "execution_count": 21,
   "metadata": {},
   "outputs": [
    {
     "data": {
      "text/plain": [
       "20273"
      ]
     },
     "execution_count": 21,
     "metadata": {},
     "output_type": "execute_result"
    }
   ],
   "source": [
    "len(data)"
   ]
  },
  {
   "cell_type": "code",
   "execution_count": 22,
   "metadata": {},
   "outputs": [],
   "source": [
    "x = data[0]"
   ]
  },
  {
   "cell_type": "code",
   "execution_count": 23,
   "metadata": {},
   "outputs": [
    {
     "data": {
      "text/plain": [
       "(11, 4, 252, 252)"
      ]
     },
     "execution_count": 23,
     "metadata": {},
     "output_type": "execute_result"
    }
   ],
   "source": [
    "x[0].shape"
   ]
  },
  {
   "cell_type": "code",
   "execution_count": 24,
   "metadata": {},
   "outputs": [
    {
     "data": {
      "text/plain": [
       "(1, 32, 252, 252)"
      ]
     },
     "execution_count": 24,
     "metadata": {},
     "output_type": "execute_result"
    }
   ],
   "source": [
    "x[1].shape"
   ]
  },
  {
   "cell_type": "code",
   "execution_count": 25,
   "metadata": {},
   "outputs": [],
   "source": [
    "class DataModule(pl.LightningDataModule):\n",
    "    def __init__(self, params: dict, mode: str):\n",
    "        super().__init__()\n",
    "        self.params = params\n",
    "        if mode in ['train']:\n",
    "            self.train_ds = RainData('training', **self.params)\n",
    "            self.val_ds = RainData('validation', **self.params)\n",
    "        if mode in ['val']:\n",
    "            self.val_ds = RainData('validation', **self.params)\n",
    "        if mode in ['predict']:\n",
    "            self.test_ds = RainData('test', **self.params)\n",
    "\n",
    "    def __load_dataloader(self, dataset, shuffle=True, pin=True):\n",
    "        dl = DataLoader(dataset,\n",
    "                        batch_size=self.params['train']['batch_size'],\n",
    "                        num_workers=self.params['train']['n_workers'],\n",
    "                        shuffle=shuffle, pin_memory=pin, prefetch_factor=2,\n",
    "                        persistent_workers=False)\n",
    "        return dl\n",
    "\n",
    "    def train_dataloader(self) -> DataLoader:\n",
    "        return self.__load_dataloader(self.train_ds, shuffle=True, pin=True)\n",
    "\n",
    "    def val_dataloader(self) -> DataLoader:\n",
    "        return self.__load_dataloader(self.val_ds, shuffle=False, pin=True)\n",
    "\n",
    "    def test_dataloader(self) -> DataLoader:\n",
    "        return self.__load_dataloader(self.test_ds, shuffle=False, pin=True)"
   ]
  },
  {
   "cell_type": "code",
   "execution_count": 84,
   "metadata": {},
   "outputs": [],
   "source": [
    "from turtle import forward\n",
    "import pytorch_lightning as pl\n",
    "import wandb\n",
    "import torch\n",
    "import torch.nn as nn\n",
    "import torch.nn.functional as F\n",
    "from meteopress.models.unet_attention.model import UNet_Attention\n",
    "from dutils.evaluate import *\n",
    "\n",
    "class ModelBase(pl.LightningModule):\n",
    "    def __init__(self, params: dict) -> None:\n",
    "        super().__init__()\n",
    "        self.save_hyperparameters()\n",
    "        self.params = params\n",
    "        self.loss = params['train']['loss']\n",
    "\n",
    "        losses = {\n",
    "            'MSE': F.mse_loss,\n",
    "            'SmoothL1Loss': nn.SmoothL1Loss(),\n",
    "            'L1': nn.L1Loss(),\n",
    "            'BCELoss': nn.BCELoss(),\n",
    "            'CrossEntropy': nn.CrossEntropyLoss(),\n",
    "        }\n",
    "\n",
    "        self.loss_fn = losses[self.loss]\n",
    "\n",
    "    def retrieve_only_valid_pixels(self, x, mask):\n",
    "        \"\"\" we asume 1s in mask are invalid pixels \"\"\"\n",
    "        return x[~mask]\n",
    "\n",
    "    def get_target_mask(self, metadata):\n",
    "        return metadata['target']['mask']\n",
    "\n",
    "    def calculate_loss(self, pred, target, mask=None):\n",
    "        if mask is not None:\n",
    "            pred = self.retrieve_only_valid_pixels(pred, mask)\n",
    "            target = self.retrieve_only_valid_pixels(target, mask)\n",
    "\n",
    "        return self.loss_fn(pred, target)\n",
    "\n",
    "    def configure_optimizers(self):\n",
    "        optimizer = torch.optim.AdamW(self.parameters(),\n",
    "                                      lr=float(self.params['train'][\"lr\"]),\n",
    "                                      weight_decay=float(self.params['train'][\"weight_decay\"]))\n",
    "        return optimizer\n",
    "\n",
    "\n",
    "class SmaAt(ModelBase):\n",
    "    def __init__(self, params: dict):\n",
    "        super().__init__(params)\n",
    "\n",
    "        self.model = UNet_Attention(\n",
    "            n_channels=11 * 4,\n",
    "            n_classes=32\n",
    "        )\n",
    "\n",
    "    def forward(self, x):\n",
    "        return self.model(x.swapaxes(1, 2))\n",
    "\n",
    "    def training_step(self, batch, batch_idx):\n",
    "        x, y, meta = batch\n",
    "        # flatten ?\n",
    "        # x = x.swapaxes(1, 2)\n",
    "        pred = self.model(x)\n",
    "        mask = self.get_target_mask(meta)\n",
    "        loss = self.calculate_loss(pred, y, mask)\n",
    "\n",
    "        self.log('train_loss', loss,\n",
    "                 batch_size=self.params['train']['batch_size'], sync_dist=True)\n",
    "\n",
    "        return loss\n",
    "\n",
    "    def validation_step(self, batch, batch_idx):\n",
    "        x, y, meta = batch\n",
    "        x = x.swapaxes(1, 2)\n",
    "        pred = self.model(x)\n",
    "        mask = self.get_target_mask(meta)\n",
    "        loss = self.calculate_loss(pred, y, mask)\n",
    "\n",
    "        recall, precision, f1, acc, csi = recall_precision_f1_acc(y, pred)\n",
    "        iou = iou_class(pred, y)\n",
    "\n",
    "        self.log_dict(\n",
    "            {\n",
    "                'val_loss': loss,\n",
    "                'val_recall': recall,\n",
    "                'val_precision': precision,\n",
    "                'val_f1': f1,\n",
    "                'val_acc': acc,\n",
    "                'val_csi': csi,\n",
    "                'val_iou': iou\n",
    "            },\n",
    "            batch_size=self.params['train']['batch_size'], sync_dist=True)\n",
    "\n",
    "        return loss\n",
    "\n",
    "    def validation_epoch_end(self, outputs):\n",
    "        avg_loss = torch.stack([x for x in outputs]).mean()\n",
    "        self.log(f'val_loss_epoch', avg_loss, prog_bar=True,\n",
    "                 batch_size=self.bs, sync_dist=True)\n",
    "\n",
    "    def test_step(self, batch, batch_idx):\n",
    "        x, y, meta = batch\n",
    "        x = x.swapaxes(1, 2)\n",
    "        pred = self.model(x)\n",
    "        mask = self.get_target_mask(meta)\n",
    "        loss = self.calculate_loss(pred, y, mask)\n",
    "\n",
    "        recall, precision, f1, acc, csi = recall_precision_f1_acc(y, pred)\n",
    "        iou = iou_class(pred, y)\n",
    "\n",
    "        self.log_dict(\n",
    "            {\n",
    "                'test_loss': loss,\n",
    "                'test_recall': recall,\n",
    "                'test_precision': precision,\n",
    "                'test_f1': f1,\n",
    "                'test_acc': acc,\n",
    "                'test_csi': csi,\n",
    "                'test_iou': iou\n",
    "            },\n",
    "            batch_size=self.params['train']['batch_size'], sync_dist=True)\n"
   ]
  },
  {
   "cell_type": "code",
   "execution_count": 92,
   "metadata": {},
   "outputs": [],
   "source": [
    "smaat = SmaAt(params)"
   ]
  },
  {
   "cell_type": "code",
   "execution_count": 130,
   "metadata": {},
   "outputs": [],
   "source": [
    "d = [torch.tensor(data[i][0]) for i in range(16)]\n",
    "x = torch.stack(d)\n",
    "x = x.swapaxes(1, 2)"
   ]
  },
  {
   "cell_type": "code",
   "execution_count": 146,
   "metadata": {},
   "outputs": [
    {
     "data": {
      "text/plain": [
       "torch.Size([16, 11, 4, 252, 252])"
      ]
     },
     "execution_count": 146,
     "metadata": {},
     "output_type": "execute_result"
    }
   ],
   "source": [
    "d = [torch.tensor(data[i][0]) for i in range(16)]\n",
    "x = torch.stack(d)\n",
    "x.shape"
   ]
  },
  {
   "cell_type": "code",
   "execution_count": 113,
   "metadata": {},
   "outputs": [
    {
     "data": {
      "text/plain": [
       "torch.Size([16, 4, 11, 252, 252])"
      ]
     },
     "execution_count": 113,
     "metadata": {},
     "output_type": "execute_result"
    }
   ],
   "source": [
    "x.shape"
   ]
  },
  {
   "cell_type": "code",
   "execution_count": 123,
   "metadata": {},
   "outputs": [
    {
     "data": {
      "text/plain": [
       "torch.Size([16, 11, 252, 252])"
      ]
     },
     "execution_count": 123,
     "metadata": {},
     "output_type": "execute_result"
    }
   ],
   "source": [
    "x.squeeze(0).shape"
   ]
  },
  {
   "cell_type": "code",
   "execution_count": 131,
   "metadata": {},
   "outputs": [
    {
     "data": {
      "text/plain": [
       "torch.Size([16, 44, 252, 252])"
      ]
     },
     "execution_count": 131,
     "metadata": {},
     "output_type": "execute_result"
    }
   ],
   "source": [
    "x.flatten(1, 2).shape"
   ]
  },
  {
   "cell_type": "code",
   "execution_count": 114,
   "metadata": {},
   "outputs": [],
   "source": [
    "x = x[:, 0]"
   ]
  },
  {
   "cell_type": "code",
   "execution_count": 119,
   "metadata": {},
   "outputs": [
    {
     "data": {
      "text/plain": [
       "torch.Size([16, 11, 252, 252])"
      ]
     },
     "execution_count": 119,
     "metadata": {},
     "output_type": "execute_result"
    }
   ],
   "source": [
    "x.shape"
   ]
  },
  {
   "cell_type": "code",
   "execution_count": 116,
   "metadata": {},
   "outputs": [
    {
     "data": {
      "text/plain": [
       "torch.Size([16, 1, 11, 252, 252])"
      ]
     },
     "execution_count": 116,
     "metadata": {},
     "output_type": "execute_result"
    }
   ],
   "source": [
    "x.unsqueeze(1).shape"
   ]
  },
  {
   "cell_type": "code",
   "execution_count": 135,
   "metadata": {},
   "outputs": [],
   "source": [
    "res = smaat(x.flatten(1, 2).swapaxes(1, 2))"
   ]
  },
  {
   "cell_type": "code",
   "execution_count": 137,
   "metadata": {},
   "outputs": [
    {
     "data": {
      "text/plain": [
       "torch.Size([16, 32, 252, 252])"
      ]
     },
     "execution_count": 137,
     "metadata": {},
     "output_type": "execute_result"
    }
   ],
   "source": [
    "res.shape"
   ]
  },
  {
   "cell_type": "code",
   "execution_count": 153,
   "metadata": {},
   "outputs": [
    {
     "data": {
      "text/plain": [
       "torch.Size([16, 1, 32, 252, 252])"
      ]
     },
     "execution_count": 153,
     "metadata": {},
     "output_type": "execute_result"
    }
   ],
   "source": [
    "res.unsqueeze(1).shape"
   ]
  },
  {
   "cell_type": "code",
   "execution_count": 152,
   "metadata": {},
   "outputs": [
    {
     "ename": "RuntimeError",
     "evalue": "shape '[16, 32, 11, 252, 252]' is invalid for input of size 32514048",
     "output_type": "error",
     "traceback": [
      "\u001b[0;31m---------------------------------------------------------------------------\u001b[0m",
      "\u001b[0;31mRuntimeError\u001b[0m                              Traceback (most recent call last)",
      "\u001b[0;32m/tmp/ipykernel_29102/1142910802.py\u001b[0m in \u001b[0;36m<module>\u001b[0;34m\u001b[0m\n\u001b[0;32m----> 1\u001b[0;31m \u001b[0mres\u001b[0m\u001b[0;34m.\u001b[0m\u001b[0mreshape\u001b[0m\u001b[0;34m(\u001b[0m\u001b[0;34m(\u001b[0m\u001b[0;36m16\u001b[0m\u001b[0;34m,\u001b[0m \u001b[0;36m32\u001b[0m\u001b[0;34m,\u001b[0m \u001b[0;36m11\u001b[0m\u001b[0;34m,\u001b[0m \u001b[0;36m252\u001b[0m\u001b[0;34m,\u001b[0m \u001b[0;36m252\u001b[0m\u001b[0;34m)\u001b[0m\u001b[0;34m)\u001b[0m\u001b[0;34m\u001b[0m\u001b[0;34m\u001b[0m\u001b[0m\n\u001b[0m",
      "\u001b[0;31mRuntimeError\u001b[0m: shape '[16, 32, 11, 252, 252]' is invalid for input of size 32514048"
     ]
    }
   ],
   "source": [
    "res.reshape((16, 32, 11, 252, 252))"
   ]
  },
  {
   "cell_type": "code",
   "execution_count": null,
   "metadata": {},
   "outputs": [],
   "source": []
  }
 ],
 "metadata": {
  "kernelspec": {
   "display_name": "Python 3.8.12 ('rudolf-weather4cast': conda)",
   "language": "python",
   "name": "python3"
  },
  "language_info": {
   "codemirror_mode": {
    "name": "ipython",
    "version": 3
   },
   "file_extension": ".py",
   "mimetype": "text/x-python",
   "name": "python",
   "nbconvert_exporter": "python",
   "pygments_lexer": "ipython3",
   "version": "3.8.12"
  },
  "orig_nbformat": 4,
  "vscode": {
   "interpreter": {
    "hash": "52af230620007dff24b6e5e98ec32737cc6331fc6cf2c418c41273cb580aeb12"
   }
  }
 },
 "nbformat": 4,
 "nbformat_minor": 2
}
